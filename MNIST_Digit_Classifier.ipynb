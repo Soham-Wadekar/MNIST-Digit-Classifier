{
  "cells": [
    {
      "cell_type": "markdown",
      "metadata": {
        "id": "emiDl8o5HTTu"
      },
      "source": [
        "# MNIST Handwritten Digits Classification\n",
        "### About the data\n",
        "The MNIST database (Modified National Institute of Standards and Technology database) is a large database of handwritten digits that is commonly used for training various image processing systems.\n",
        "\n",
        "It is a dataset of images of handwritten digits of size 28 × 28 pixels. It contains a training set of 60,000 images and a test set of 10,000 images. The train and test set also has a label column which is labeled as [0,1,2,3,4,5,6,7,8,9] according to the digits in the images."
      ]
    },
    {
      "cell_type": "markdown",
      "metadata": {
        "id": "6sPcG1WvIXCq"
      },
      "source": [
        "### Importing necessary libraries"
      ]
    },
    {
      "cell_type": "code",
      "execution_count": 1,
      "metadata": {
        "id": "SgCobaW5uFOF"
      },
      "outputs": [],
      "source": [
        "import warnings\n",
        "warnings.simplefilter('ignore')\n",
        "\n",
        "import seaborn as sns\n",
        "import pandas as pd\n",
        "import matplotlib.pyplot as plt\n",
        "from tensorflow import keras\n",
        "from tensorflow.keras.datasets import mnist\n",
        "from tensorflow.keras.models import Sequential\n",
        "from tensorflow.keras.layers import Dropout, Dense, Activation, Flatten\n",
        "from tensorflow.keras.layers import Conv2D, MaxPooling2D"
      ]
    },
    {
      "cell_type": "markdown",
      "metadata": {
        "id": "ixf4lO1gOrnU"
      },
      "source": [
        "### Objective of the project\n",
        "The main objective of the project is to create a multi-class classifier using Keras and validate its accuracy and loss.\n",
        "\n",
        "To start, I first loaded the dataset"
      ]
    },
    {
      "cell_type": "markdown",
      "metadata": {
        "id": "lPxmI7lcI4fk"
      },
      "source": [
        "### Loading the data into train and test sets\n",
        "We can see that `x_train` contains 60,000 images, each of size 28 × 28 pixels. Also we have 60,000 train samples and 10,000 test samples"
      ]
    },
    {
      "cell_type": "code",
      "execution_count": 2,
      "metadata": {
        "colab": {
          "base_uri": "https://localhost:8080/"
        },
        "id": "eTjtA-ffwKjt",
        "outputId": "394605b8-0503-4d58-fe7e-8a8b9fd6b4b7"
      },
      "outputs": [
        {
          "name": "stdout",
          "output_type": "stream",
          "text": [
            "X_train shape (60000, 28, 28)\n",
            "60000 train samples\n",
            "10000 test samples\n"
          ]
        }
      ],
      "source": [
        "(x_train,y_train),(x_test,y_test) = mnist.load_data()\n",
        "print('X_train shape',x_train.shape)\n",
        "print(x_train.shape[0],'train samples')\n",
        "print(x_test.shape[0],'test samples')"
      ]
    },
    {
      "cell_type": "markdown",
      "metadata": {
        "id": "5PNWbjUbI-UC"
      },
      "source": [
        "We can see that each image is of size 28 × 28 pixels"
      ]
    },
    {
      "cell_type": "code",
      "execution_count": 3,
      "metadata": {
        "colab": {
          "base_uri": "https://localhost:8080/"
        },
        "id": "QCKcJ0uFxiQq",
        "outputId": "81b6f21b-9f70-44f2-ff77-f727e47fd89b"
      },
      "outputs": [
        {
          "data": {
            "text/plain": [
              "(28, 28)"
            ]
          },
          "execution_count": 3,
          "metadata": {},
          "output_type": "execute_result"
        }
      ],
      "source": [
        "x_train[10].shape"
      ]
    },
    {
      "cell_type": "markdown",
      "metadata": {
        "id": "nKU8bVtxJHEx"
      },
      "source": [
        "Visualizing an image"
      ]
    },
    {
      "cell_type": "code",
      "execution_count": 4,
      "metadata": {
        "colab": {
          "base_uri": "https://localhost:8080/",
          "height": 281
        },
        "id": "Cj4n7kQFxOzh",
        "outputId": "7d7c8fd8-1a4b-4e1c-e6d8-21f2b7d8a250"
      },
      "outputs": [
        {
          "data": {
            "image/png": "[encoded data removed]",
            "text/plain": [
              "<Figure size 432x288 with 1 Axes>"
            ]
          },
          "metadata": {
            "needs_background": "light"
          },
          "output_type": "display_data"
        }
      ],
      "source": [
        "plt.imshow(x_train[10])\n",
        "plt.title(f'The number is {y_train[10]}');"
      ]
    },
    {
      "cell_type": "code",
      "execution_count": 5,
      "metadata": {
        "colab": {
          "base_uri": "https://localhost:8080/",
          "height": 369
        },
        "id": "yhk5VwM6PLfF",
        "outputId": "3d37ae02-7de9-421b-b001-eeb572ecec41"
      },
      "outputs": [
        {
          "data": {
            "image/png": "[encoded data removed]",
            "text/plain": [
              "<Figure size 864x360 with 2 Axes>"
            ]
          },
          "metadata": {
            "needs_background": "light"
          },
          "output_type": "display_data"
        }
      ],
      "source": [
        "plt.figure(figsize=(12,5))\n",
        "\n",
        "plt.subplot(121)\n",
        "sns.countplot(x=pd.Series(y_train))\n",
        "plt.title('Train set')\n",
        "\n",
        "plt.subplot(122)\n",
        "sns.countplot(x=pd.Series(y_test))\n",
        "plt.title('Test set')\n",
        "\n",
        "plt.tight_layout();"
      ]
    },
    {
      "cell_type": "markdown",
      "metadata": {
        "id": "OR2xmOwERhQc"
      },
      "source": [
        "We can see that all the labels are distributed normally"
      ]
    },
    {
      "cell_type": "markdown",
      "metadata": {
        "id": "u1X9rJyKJKCY"
      },
      "source": [
        "### Data Preprocessing\n",
        "Here, we are converting the y train and test sets to categorical values from 0 to 9 (i.e. one-hot encoding them)"
      ]
    },
    {
      "cell_type": "code",
      "execution_count": 6,
      "metadata": {
        "id": "JrQNXGBUy96_"
      },
      "outputs": [],
      "source": [
        "num_classes = 10\n",
        "\n",
        "y_train = keras.utils.to_categorical(y_train, num_classes)\n",
        "y_test = keras.utils.to_categorical(y_test,num_classes)"
      ]
    },
    {
      "cell_type": "code",
      "execution_count": 7,
      "metadata": {
        "colab": {
          "base_uri": "https://localhost:8080/"
        },
        "id": "h0_A3lCnzZXE",
        "outputId": "a6563074-4567-4dac-9131-93e2fc594643"
      },
      "outputs": [
        {
          "data": {
            "text/plain": [
              "array([0., 0., 0., 1., 0., 0., 0., 0., 0., 0.], dtype=float32)"
            ]
          },
          "execution_count": 7,
          "metadata": {},
          "output_type": "execute_result"
        }
      ],
      "source": [
        "y_train[10]"
      ]
    },
    {
      "cell_type": "markdown",
      "metadata": {
        "id": "2R1cfcYnJcXZ"
      },
      "source": [
        "Normalizing the x train and test data points"
      ]
    },
    {
      "cell_type": "code",
      "execution_count": 8,
      "metadata": {
        "id": "FMGFhV0wzqiJ"
      },
      "outputs": [],
      "source": [
        "x_train = x_train.astype('float32')\n",
        "x_test = x_test.astype('float32')\n",
        "x_train, x_test = x_train/255, x_test/255"
      ]
    },
    {
      "cell_type": "markdown",
      "metadata": {
        "id": "SfqRvtnGJ1D8"
      },
      "source": [
        "## Creating our first model\n",
        "In this model, we are going to perform the following workflow:\n",
        "\n",
        "Conv2D → Conv2D → MaxPooling → Conv2D → Conv2D → MaxPooling → Flatten → Dense(512) → Dense(10)\n",
        "\n",
        "We are also going to run the model for 15 epochs and look at its accuracy"
      ]
    },
    {
      "cell_type": "code",
      "execution_count": 9,
      "metadata": {
        "id": "Ce8vlv7nz_Tn"
      },
      "outputs": [],
      "source": [
        "model1 = Sequential()\n",
        "\n",
        "model1.add(Conv2D(32,(5,5),padding='same',input_shape=(28,28,1)))\n",
        "model1.add(Activation('relu'))\n",
        "model1.add(Conv2D(32,(5,5)))\n",
        "model1.add(Activation('relu'))\n",
        "model1.add(MaxPooling2D(pool_size=(2,2)))\n",
        "model1.add(Dropout(0.25))\n",
        "\n",
        "model1.add(Conv2D(32,(5,5),padding='same'))\n",
        "model1.add(Activation('relu'))\n",
        "model1.add(Conv2D(32,(5,5)))\n",
        "model1.add(Activation('relu'))\n",
        "model1.add(MaxPooling2D(pool_size=(2,2)))\n",
        "model1.add(Dropout(0.25))\n",
        "\n",
        "model1.add(Flatten())\n",
        "model1.add(Dense(512))\n",
        "model1.add(Activation('relu'))\n",
        "model1.add(Dropout(0.5))\n",
        "model1.add(Dense(num_classes))\n",
        "model1.add(Activation('softmax'))"
      ]
    },
    {
      "cell_type": "code",
      "execution_count": 10,
      "metadata": {
        "colab": {
          "base_uri": "https://localhost:8080/"
        },
        "id": "V1dfUZNR15He",
        "outputId": "093edb61-d445-446d-e74d-20cb92ea8c1c"
      },
      "outputs": [
        {
          "name": "stdout",
          "output_type": "stream",
          "text": [
            "Model: \"sequential\"\n",
            "_________________________________________________________________\n",
            " Layer (type)                Output Shape              Param #   \n",
            "=================================================================\n",
            " conv2d (Conv2D)             (None, 28, 28, 32)        832       \n",
            "                                                                 \n",
            " activation (Activation)     (None, 28, 28, 32)        0         \n",
            "                                                                 \n",
            " conv2d_1 (Conv2D)           (None, 24, 24, 32)        25632     \n",
            "                                                                 \n",
            " activation_1 (Activation)   (None, 24, 24, 32)        0         \n",
            "                                                                 \n",
            " max_pooling2d (MaxPooling2D  (None, 12, 12, 32)       0         \n",
            " )                                                               \n",
            "                                                                 \n",
            " dropout (Dropout)           (None, 12, 12, 32)        0         \n",
            "                                                                 \n",
            " conv2d_2 (Conv2D)           (None, 12, 12, 32)        25632     \n",
            "                                                                 \n",
            " activation_2 (Activation)   (None, 12, 12, 32)        0         \n",
            "                                                                 \n",
            " conv2d_3 (Conv2D)           (None, 8, 8, 32)          25632     \n",
            "                                                                 \n",
            " activation_3 (Activation)   (None, 8, 8, 32)          0         \n",
            "                                                                 \n",
            " max_pooling2d_1 (MaxPooling  (None, 4, 4, 32)         0         \n",
            " 2D)                                                             \n",
            "                                                                 \n",
            " dropout_1 (Dropout)         (None, 4, 4, 32)          0         \n",
            "                                                                 \n",
            " flatten (Flatten)           (None, 512)               0         \n",
            "                                                                 \n",
            " dense (Dense)               (None, 512)               262656    \n",
            "                                                                 \n",
            " activation_4 (Activation)   (None, 512)               0         \n",
            "                                                                 \n",
            " dropout_2 (Dropout)         (None, 512)               0         \n",
            "                                                                 \n",
            " dense_1 (Dense)             (None, 10)                5130      \n",
            "                                                                 \n",
            " activation_5 (Activation)   (None, 10)                0         \n",
            "                                                                 \n",
            "=================================================================\n",
            "Total params: 345,514\n",
            "Trainable params: 345,514\n",
            "Non-trainable params: 0\n",
            "_________________________________________________________________\n"
          ]
        }
      ],
      "source": [
        "model1.summary()"
      ]
    },
    {
      "cell_type": "code",
      "execution_count": 11,
      "metadata": {
        "id": "pe30QtJ04GvO"
      },
      "outputs": [],
      "source": [
        "opt = keras.optimizers.legacy.RMSprop(lr=0.005, decay=1e-6)\n",
        "\n",
        "model1.compile(loss='categorical_crossentropy',optimizer=opt, metrics=['accuracy'])"
      ]
    },
    {
      "cell_type": "code",
      "execution_count": 12,
      "metadata": {
        "colab": {
          "base_uri": "https://localhost:8080/"
        },
        "id": "iaE-DXoE4yt1",
        "outputId": "fa33772b-e4d7-4bc6-bfb2-590228111b6e"
      },
      "outputs": [
        {
          "name": "stdout",
          "output_type": "stream",
          "text": [
            "Epoch 1/15\n",
            "1875/1875 [==============================] - 25s 11ms/step - loss: 0.4284 - accuracy: 0.8841 - val_loss: 0.0992 - val_accuracy: 0.9730\n",
            "Epoch 2/15\n",
            "1875/1875 [==============================] - 14s 8ms/step - loss: 0.2975 - accuracy: 0.9395 - val_loss: 0.1717 - val_accuracy: 0.9566\n",
            "Epoch 3/15\n",
            "1875/1875 [==============================] - 11s 6ms/step - loss: 0.3321 - accuracy: 0.9297 - val_loss: 0.1136 - val_accuracy: 0.9683\n",
            "Epoch 4/15\n",
            "1875/1875 [==============================] - 11s 6ms/step - loss: 0.3672 - accuracy: 0.9249 - val_loss: 0.1267 - val_accuracy: 0.9648\n",
            "Epoch 5/15\n",
            "1875/1875 [==============================] - 12s 6ms/step - loss: 0.3825 - accuracy: 0.9158 - val_loss: 0.1306 - val_accuracy: 0.9623\n",
            "Epoch 6/15\n",
            "1875/1875 [==============================] - 12s 6ms/step - loss: 0.3901 - accuracy: 0.9107 - val_loss: 0.1568 - val_accuracy: 0.9547\n",
            "Epoch 7/15\n",
            "1875/1875 [==============================] - 12s 7ms/step - loss: 0.4664 - accuracy: 0.9069 - val_loss: 0.1981 - val_accuracy: 0.9395\n",
            "Epoch 8/15\n",
            "1875/1875 [==============================] - 12s 6ms/step - loss: 0.4548 - accuracy: 0.9012 - val_loss: 0.1766 - val_accuracy: 0.9542\n",
            "Epoch 9/15\n",
            "1875/1875 [==============================] - 11s 6ms/step - loss: 0.5078 - accuracy: 0.8811 - val_loss: 0.2192 - val_accuracy: 0.9394\n",
            "Epoch 10/15\n",
            "1875/1875 [==============================] - 11s 6ms/step - loss: 0.5264 - accuracy: 0.8808 - val_loss: 0.2113 - val_accuracy: 0.9446\n",
            "Epoch 11/15\n",
            "1875/1875 [==============================] - 12s 6ms/step - loss: 0.5513 - accuracy: 0.8756 - val_loss: 0.3874 - val_accuracy: 0.8916\n",
            "Epoch 12/15\n",
            "1875/1875 [==============================] - 12s 7ms/step - loss: 0.5688 - accuracy: 0.8604 - val_loss: 0.2089 - val_accuracy: 0.9394\n",
            "Epoch 13/15\n",
            "1875/1875 [==============================] - 13s 7ms/step - loss: 0.6525 - accuracy: 0.8593 - val_loss: 0.3208 - val_accuracy: 0.9048\n",
            "Epoch 14/15\n",
            "1875/1875 [==============================] - 12s 6ms/step - loss: 0.6101 - accuracy: 0.8522 - val_loss: 0.5352 - val_accuracy: 0.8529\n",
            "Epoch 15/15\n",
            "1875/1875 [==============================] - 12s 6ms/step - loss: 0.5640 - accuracy: 0.8526 - val_loss: 0.2651 - val_accuracy: 0.9366\n"
          ]
        }
      ],
      "source": [
        "history = model1.fit(x_train,y_train, batch_size=32, epochs=15, validation_data=(x_test,y_test),shuffle=True)"
      ]
    },
    {
      "cell_type": "code",
      "execution_count": 13,
      "metadata": {
        "colab": {
          "base_uri": "https://localhost:8080/"
        },
        "id": "jDmCN066_cd1",
        "outputId": "30132da5-c83a-4e79-996f-5ad0fa04387d"
      },
      "outputs": [
        {
          "name": "stdout",
          "output_type": "stream",
          "text": [
            "Accuracy: 94.0 %\n"
          ]
        }
      ],
      "source": [
        "loss, accuracy = model1.evaluate(x_test,y_test,verbose=0)\n",
        "print('Accuracy: {} %'.format(round(accuracy,2)*100))"
      ]
    },
    {
      "cell_type": "code",
      "execution_count": 14,
      "metadata": {
        "colab": {
          "base_uri": "https://localhost:8080/",
          "height": 369
        },
        "id": "ZOps9wNpN3B8",
        "outputId": "c8598096-0cdb-401d-cd0f-290a4e1417d0"
      },
      "outputs": [
        {
          "data": {
            "image/png": "[encoded data removed]",
            "text/plain": [
              "<Figure size 720x360 with 2 Axes>"
            ]
          },
          "metadata": {
            "needs_background": "light"
          },
          "output_type": "display_data"
        }
      ],
      "source": [
        "plt.figure(figsize=(10,5))\n",
        "\n",
        "plt.subplot(121)\n",
        "plt.plot(history.history['accuracy'])\n",
        "plt.plot(history.history['val_accuracy'])\n",
        "plt.title('Model Accuracy')\n",
        "plt.xlabel('Epochs')\n",
        "plt.ylabel('Accuracy')\n",
        "plt.legend(['Train accuarcy','Test accuracy'])\n",
        "\n",
        "plt.subplot(122)\n",
        "plt.plot(history.history['loss'])\n",
        "plt.plot(history.history['val_loss'])\n",
        "plt.title('Model Loss')\n",
        "plt.xlabel('Epochs')\n",
        "plt.ylabel('Loss')\n",
        "plt.legend(['Train loss','Test loss'])\n",
        "plt.tight_layout()"
      ]
    },
    {
      "cell_type": "markdown",
      "metadata": {
        "id": "33YkOHPOMxit"
      },
      "source": [
        "We got a pretty good accuracy of 94% but we can see that it actually decreased overall. This may be because of too much convolutions which has actually lost information rather than gaining. We also see that the accuracy and loss increase and decrease randomly.\n",
        "\n",
        "So, what we can do is to scale down the model which may help in better fitting the data and giving better outcomes."
      ]
    },
    {
      "cell_type": "markdown",
      "metadata": {
        "id": "DDaxKIU7OFn7"
      },
      "source": [
        "### Creating a better model\n",
        "In this model, we are going to perform the following workflow:\n",
        "\n",
        "Conv2D → Conv2D → MaxPooling → Flatten → Dense(512) → Dense(10)\n",
        "\n",
        "We are also going to run the model for 15 epochs and look at its accuracy"
      ]
    },
    {
      "cell_type": "code",
      "execution_count": 15,
      "metadata": {
        "id": "XHs6-S-5A2qu"
      },
      "outputs": [],
      "source": [
        "model2 = Sequential()\n",
        "\n",
        "model2.add(Conv2D(32,(7,7),strides=(3,3),padding='same',input_shape=(28,28,1)))\n",
        "model2.add(Activation('sigmoid'))\n",
        "model2.add(Conv2D(32,(7,7),strides=(3,3)))\n",
        "model2.add(Activation('sigmoid'))\n",
        "model2.add(MaxPooling2D(pool_size=(2,2)))\n",
        "model2.add(Dropout(0.25))\n",
        "\n",
        "model2.add(Flatten())\n",
        "model2.add(Dense(256))\n",
        "model2.add(Activation('relu'))\n",
        "model2.add(Dropout(0.5))\n",
        "model2.add(Dense(num_classes))\n",
        "model2.add(Activation('softmax'))"
      ]
    },
    {
      "cell_type": "code",
      "execution_count": 16,
      "metadata": {
        "colab": {
          "base_uri": "https://localhost:8080/"
        },
        "id": "PgFOxAOBBAiN",
        "outputId": "ef6c81ac-eda3-413a-efe0-216d6dbc7f66"
      },
      "outputs": [
        {
          "name": "stdout",
          "output_type": "stream",
          "text": [
            "Model: \"sequential_1\"\n",
            "_________________________________________________________________\n",
            " Layer (type)                Output Shape              Param #   \n",
            "=================================================================\n",
            " conv2d_4 (Conv2D)           (None, 10, 10, 32)        1600      \n",
            "                                                                 \n",
            " activation_6 (Activation)   (None, 10, 10, 32)        0         \n",
            "                                                                 \n",
            " conv2d_5 (Conv2D)           (None, 2, 2, 32)          50208     \n",
            "                                                                 \n",
            " activation_7 (Activation)   (None, 2, 2, 32)          0         \n",
            "                                                                 \n",
            " max_pooling2d_2 (MaxPooling  (None, 1, 1, 32)         0         \n",
            " 2D)                                                             \n",
            "                                                                 \n",
            " dropout_3 (Dropout)         (None, 1, 1, 32)          0         \n",
            "                                                                 \n",
            " flatten_1 (Flatten)         (None, 32)                0         \n",
            "                                                                 \n",
            " dense_2 (Dense)             (None, 256)               8448      \n",
            "                                                                 \n",
            " activation_8 (Activation)   (None, 256)               0         \n",
            "                                                                 \n",
            " dropout_4 (Dropout)         (None, 256)               0         \n",
            "                                                                 \n",
            " dense_3 (Dense)             (None, 10)                2570      \n",
            "                                                                 \n",
            " activation_9 (Activation)   (None, 10)                0         \n",
            "                                                                 \n",
            "=================================================================\n",
            "Total params: 62,826\n",
            "Trainable params: 62,826\n",
            "Non-trainable params: 0\n",
            "_________________________________________________________________\n"
          ]
        }
      ],
      "source": [
        "model2.summary()"
      ]
    },
    {
      "cell_type": "code",
      "execution_count": 17,
      "metadata": {
        "id": "NX2qS5wmBJXG"
      },
      "outputs": [],
      "source": [
        "opt2 = keras.optimizers.legacy.RMSprop(lr=0.0005)\n",
        "\n",
        "model2.compile(loss='categorical_crossentropy',optimizer=opt2, metrics=['accuracy'])"
      ]
    },
    {
      "cell_type": "code",
      "execution_count": 18,
      "metadata": {
        "colab": {
          "base_uri": "https://localhost:8080/"
        },
        "id": "wM6SVhp5BOjS",
        "outputId": "f35da8d6-f7ad-41bb-d456-8a6fd577eb00"
      },
      "outputs": [
        {
          "name": "stdout",
          "output_type": "stream",
          "text": [
            "Epoch 1/15\n",
            "1875/1875 [==============================] - 9s 4ms/step - loss: 1.2649 - accuracy: 0.5582 - val_loss: 0.3532 - val_accuracy: 0.8994\n",
            "Epoch 2/15\n",
            "1875/1875 [==============================] - 9s 5ms/step - loss: 0.4301 - accuracy: 0.8658 - val_loss: 0.2360 - val_accuracy: 0.9301\n",
            "Epoch 3/15\n",
            "1875/1875 [==============================] - 9s 5ms/step - loss: 0.3274 - accuracy: 0.9004 - val_loss: 0.1814 - val_accuracy: 0.9458\n",
            "Epoch 4/15\n",
            "1875/1875 [==============================] - 8s 4ms/step - loss: 0.2769 - accuracy: 0.9164 - val_loss: 0.1457 - val_accuracy: 0.9581\n",
            "Epoch 5/15\n",
            "1875/1875 [==============================] - 9s 5ms/step - loss: 0.2449 - accuracy: 0.9262 - val_loss: 0.1304 - val_accuracy: 0.9628\n",
            "Epoch 6/15\n",
            "1875/1875 [==============================] - 9s 5ms/step - loss: 0.2239 - accuracy: 0.9331 - val_loss: 0.1205 - val_accuracy: 0.9661\n",
            "Epoch 7/15\n",
            "1875/1875 [==============================] - 9s 5ms/step - loss: 0.2047 - accuracy: 0.9403 - val_loss: 0.1416 - val_accuracy: 0.9615\n",
            "Epoch 8/15\n",
            "1875/1875 [==============================] - 8s 4ms/step - loss: 0.1930 - accuracy: 0.9439 - val_loss: 0.1286 - val_accuracy: 0.9637\n",
            "Epoch 9/15\n",
            "1875/1875 [==============================] - 9s 5ms/step - loss: 0.1868 - accuracy: 0.9462 - val_loss: 0.0977 - val_accuracy: 0.9733\n",
            "Epoch 10/15\n",
            "1875/1875 [==============================] - 9s 5ms/step - loss: 0.1821 - accuracy: 0.9477 - val_loss: 0.0946 - val_accuracy: 0.9745\n",
            "Epoch 11/15\n",
            "1875/1875 [==============================] - 8s 4ms/step - loss: 0.1747 - accuracy: 0.9504 - val_loss: 0.0863 - val_accuracy: 0.9773\n",
            "Epoch 12/15\n",
            "1875/1875 [==============================] - 9s 5ms/step - loss: 0.1763 - accuracy: 0.9504 - val_loss: 0.1280 - val_accuracy: 0.9663\n",
            "Epoch 13/15\n",
            "1875/1875 [==============================] - 9s 5ms/step - loss: 0.1707 - accuracy: 0.9518 - val_loss: 0.0942 - val_accuracy: 0.9717\n",
            "Epoch 14/15\n",
            "1875/1875 [==============================] - 9s 5ms/step - loss: 0.1698 - accuracy: 0.9520 - val_loss: 0.0857 - val_accuracy: 0.9751\n",
            "Epoch 15/15\n",
            "1875/1875 [==============================] - 8s 5ms/step - loss: 0.1669 - accuracy: 0.9525 - val_loss: 0.1132 - val_accuracy: 0.9717\n"
          ]
        }
      ],
      "source": [
        "history2 = model2.fit(x_train,y_train, batch_size=32, epochs=15, validation_data=(x_test,y_test),shuffle=True)"
      ]
    },
    {
      "cell_type": "code",
      "execution_count": 19,
      "metadata": {
        "colab": {
          "base_uri": "https://localhost:8080/"
        },
        "id": "dfkcAuW9BQii",
        "outputId": "fda1228e-a43e-42c1-fbd3-340941ff065a"
      },
      "outputs": [
        {
          "name": "stdout",
          "output_type": "stream",
          "text": [
            "Accuracy: 97.0 %\n"
          ]
        }
      ],
      "source": [
        "loss2, accuracy2 = model2.evaluate(x_test,y_test,verbose=0)\n",
        "print('Accuracy: {} %'.format(round(accuracy2,2)*100))"
      ]
    },
    {
      "cell_type": "code",
      "execution_count": 20,
      "metadata": {
        "colab": {
          "base_uri": "https://localhost:8080/",
          "height": 369
        },
        "id": "ELTKcESMMWbG",
        "outputId": "4fc91965-c04e-4a34-c239-1810c616d479"
      },
      "outputs": [
        {
          "data": {
            "image/png": "[encoded data removed]",
            "text/plain": [
              "<Figure size 720x360 with 2 Axes>"
            ]
          },
          "metadata": {
            "needs_background": "light"
          },
          "output_type": "display_data"
        }
      ],
      "source": [
        "plt.figure(figsize=(10,5))\n",
        "\n",
        "plt.subplot(121)\n",
        "plt.plot(history2.history['accuracy'])\n",
        "plt.plot(history2.history['val_accuracy'])\n",
        "plt.title('Model Accuracy')\n",
        "plt.xlabel('Epochs')\n",
        "plt.ylabel('Accuracy')\n",
        "plt.legend(['Train accuarcy','Test accuracy'])\n",
        "\n",
        "plt.subplot(122)\n",
        "plt.plot(history2.history['loss'])\n",
        "plt.plot(history2.history['val_loss'])\n",
        "plt.title('Model Loss')\n",
        "plt.xlabel('Epochs')\n",
        "plt.ylabel('Loss')\n",
        "plt.legend(['Train loss','Test loss'])\n",
        "plt.tight_layout()"
      ]
    },
    {
      "cell_type": "markdown",
      "metadata": {
        "id": "hovrNKYnOZnm"
      },
      "source": [
        "We can now see that this model performs much better than the previous one. We are getting an accuracy of ~ 97% to 98%. It also has smoother curves which means the model has not overfit on our data."
      ]
    },
    {
      "attachments": {},
      "cell_type": "markdown",
      "metadata": {
        "id": "-MyOHOLeXJgI"
      },
      "source": [
        "### Conclusion\n",
        "Hence, we have successfully created a CNN model to classify the MNIST dataset and have achieved an accuracy of 97-98%."
      ]
    }
  ],
  "metadata": {
    "accelerator": "GPU",
    "colab": {
      "provenance": []
    },
    "gpuClass": "standard",
    "kernelspec": {
      "display_name": "Python 3",
      "name": "python3"
    },
    "language_info": {
      "name": "python"
    }
  },
  "nbformat": 4,
  "nbformat_minor": 0
}
